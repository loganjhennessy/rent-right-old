{
 "cells": [
  {
   "cell_type": "code",
   "execution_count": 1,
   "metadata": {},
   "outputs": [],
   "source": [
    "import numpy as np\n",
    "import pandas as pd\n",
    "import os\n",
    "import seaborn as sns\n",
    "\n",
    "from pymongo import MongoClient\n",
    "from sklearn.ensemble import RandomForestRegressor\n",
    "from sklearn.model_selection import train_test_split, cross_val_score\n",
    "from textstat.textstat import textstat\n",
    "\n",
    "from rentright.utils.mongo import get_mongoclient"
   ]
  },
  {
   "cell_type": "code",
   "execution_count": 2,
   "metadata": {},
   "outputs": [],
   "source": [
    "mongoclient = get_mongoclient()"
   ]
  },
  {
   "cell_type": "code",
   "execution_count": 3,
   "metadata": {},
   "outputs": [],
   "source": [
    "units = mongoclient.scraper.unit.find()"
   ]
  },
  {
   "cell_type": "code",
   "execution_count": 4,
   "metadata": {},
   "outputs": [
    {
     "data": {
      "text/plain": [
       "23896"
      ]
     },
     "execution_count": 4,
     "metadata": {},
     "output_type": "execute_result"
    }
   ],
   "source": [
    "units.count()"
   ]
  },
  {
   "cell_type": "code",
   "execution_count": 5,
   "metadata": {},
   "outputs": [],
   "source": [
    "# Pull out t he  descriptions  and  titles\n",
    "# descs = [unit['description'] for unit in units]\n",
    "# titles = [unit['title'] for unit in units]\n",
    "# units.rewind()"
   ]
  },
  {
   "cell_type": "code",
   "execution_count": 6,
   "metadata": {},
   "outputs": [],
   "source": [
    "u = units[0]"
   ]
  },
  {
   "cell_type": "code",
   "execution_count": 7,
   "metadata": {},
   "outputs": [],
   "source": [
    "dct = dict(u)"
   ]
  },
  {
   "cell_type": "code",
   "execution_count": 8,
   "metadata": {},
   "outputs": [
    {
     "data": {
      "text/plain": [
       "('num_images', 12)"
      ]
     },
     "execution_count": 8,
     "metadata": {},
     "output_type": "execute_result"
    }
   ],
   "source": [
    "dct.popitem()"
   ]
  },
  {
   "cell_type": "code",
   "execution_count": 9,
   "metadata": {},
   "outputs": [
    {
     "data": {
      "text/plain": [
       "ObjectId('59f0c620be110116cbdc7a42')"
      ]
     },
     "execution_count": 9,
     "metadata": {},
     "output_type": "execute_result"
    }
   ],
   "source": [
    "dct.pop('_id')"
   ]
  },
  {
   "cell_type": "code",
   "execution_count": 10,
   "metadata": {},
   "outputs": [],
   "source": [
    "# for unit in units:\n",
    "#     meta_data = stats()\n",
    "    \n",
    "    "
   ]
  },
  {
   "cell_type": "code",
   "execution_count": 11,
   "metadata": {},
   "outputs": [],
   "source": [
    "unit = units[2]"
   ]
  },
  {
   "cell_type": "code",
   "execution_count": 12,
   "metadata": {},
   "outputs": [],
   "source": [
    "lat = unit['latitude']\n",
    "log = unit['longitude']"
   ]
  },
  {
   "cell_type": "code",
   "execution_count": 13,
   "metadata": {},
   "outputs": [
    {
     "data": {
      "text/plain": [
       "{'_id': ObjectId('59f0c620be110116cbdc7a44'),\n",
       " 'apartment': True,\n",
       " 'attached garage': True,\n",
       " 'bathrooms': 1.0,\n",
       " 'bedrooms': 1,\n",
       " 'cats are OK - purrr': True,\n",
       " 'description': \"\\n \\n QR Code Link to This Post \\n \\n \\n Call or TEXT us for any info or to Schedule a Tour!  Live at a Seattle ICON  Tower 801 is shaping the future of Seattle's vibrant downtown lifestyle! It's hard not to notice this uniquely circular tower located in the heart of Seattle's entertainment and high end shopping district. Inside you will find spacious, renovated apartment homes that flow naturally to outside decks with every room. THE ELEGANCE OF THE CIRCLE Tower 801's shape is a stroke of design genius. Each apartment becomes wider as you move from hallway into the living spaces. No space is wasted. Enjoy a balcony off every room, along with panoramic views, day and night, overlooking the 24-hour lifecycle of the West Coast's most beautiful city.   Call Now:  \\n show contact info \\n x 59 OR Text  59  to  \\n show contact info \\n  to text with us. Use this link for more information: http://avenue5.aptfeatures.com/uh3r24  This is a 1 Bedroom, 1 Bath, approximately 644 Sq. Ft.  Features  - Heating   - Trash Compactor   - 3-13 Month Leases- Prices Will Vary   - Quartz Countertops*   - Air Conditioning   - Balcony in Every Living Space   - Stainless Steel Appliances*   - Hardwood Plank Flooring*   - High Speed Internet Access   - Glass Hood Vent*   - Carpet*   - Smoke Free   - Washer/Dryer   - Cable Ready  *in select apartments  Community Amenities  - Sauna rooms   - 24-hour fitness facility   - Lounge area   - Wireless lounge   - Bicycle storage   - Foosball   - On-line rent payments   - Reserved garage parking available   - Sparkling pool   - Shuffleboard   - Friendly, professional staff on premises   - Multi-screen televisions   - Stunning kitchens designed for entertaining  Pet Policy  Tower 801 is a pet friendly community. Breed and weight restrictions apply. Pet Deposit: 25% of first month's rent. Please call or text us at any time for more information or if you have any questions.  Driving Directions  We offer Future Resident Parking in our garage, simply pull up to our garage, call the number on the sign and we'll buzz you right in!  Office Hours  Daily- 9am to 6pm  Tower 801  801 Pine St, Seattle, WA, 98101 Equal Housing Opportunity  3FAYz1VUc  \",\n",
       " 'dogs are OK - wooof': True,\n",
       " 'latitude': '47.611400',\n",
       " 'listing_id': ObjectId('59ed546cbe1101353438e55d'),\n",
       " 'longitude': '-122.330500',\n",
       " 'no smoking': True,\n",
       " 'num_images': 5,\n",
       " 'price': 1876.0,\n",
       " 'sqft': 644,\n",
       " 'title': 'Amazing Price for an Amazing Downtown Seattle Location!',\n",
       " 'w/d in unit': True,\n",
       " 'wheelchair accessible': True,\n",
       " 'zipcode': '98101'}"
      ]
     },
     "execution_count": 13,
     "metadata": {},
     "output_type": "execute_result"
    }
   ],
   "source": [
    "unit"
   ]
  },
  {
   "cell_type": "code",
   "execution_count": 14,
   "metadata": {},
   "outputs": [
    {
     "name": "stdout",
     "output_type": "stream",
     "text": [
      "47.611400\n",
      "-122.330500\n"
     ]
    }
   ],
   "source": [
    "print(lat)\n",
    "print(log)"
   ]
  },
  {
   "cell_type": "code",
   "execution_count": 15,
   "metadata": {},
   "outputs": [],
   "source": [
    "units_list = list(units)"
   ]
  },
  {
   "cell_type": "code",
   "execution_count": 16,
   "metadata": {},
   "outputs": [],
   "source": [
    "df = pd.DataFrame(units_list)"
   ]
  },
  {
   "cell_type": "code",
   "execution_count": 17,
   "metadata": {},
   "outputs": [],
   "source": [
    "df.fillna(False, inplace=True)\n",
    "df = df[(df['price'] < 25000) & (df['sqft'] != 0) & (df['sqft'] < 10000)]"
   ]
  },
  {
   "cell_type": "code",
   "execution_count": 18,
   "metadata": {},
   "outputs": [],
   "source": [
    "features = list(set(df.columns) - set(['_id', 'description', 'listing_id', 'price', 'title']))"
   ]
  },
  {
   "cell_type": "code",
   "execution_count": 19,
   "metadata": {},
   "outputs": [],
   "source": [
    "X = df[features]\n",
    "y = df['price']"
   ]
  },
  {
   "cell_type": "code",
   "execution_count": 53,
   "metadata": {
    "scrolled": true
   },
   "outputs": [
    {
     "name": "stdout",
     "output_type": "stream",
     "text": [
      "[  9.76894627e-04   3.23883072e-01   0.00000000e+00   0.00000000e+00\n",
      "   4.16134458e-06   5.12454170e-03   5.14511386e-03   0.00000000e+00\n",
      "   3.59547905e-03   0.00000000e+00   8.04402269e-04   1.11173224e-03\n",
      "   3.88238557e-02   0.00000000e+00   4.16129350e-04   2.16792690e-03\n",
      "   3.32949081e-02   0.00000000e+00   9.59686954e-04   1.07835505e-04\n",
      "   7.68200056e-03   5.83373824e-03   0.00000000e+00   2.84566288e-01\n",
      "   0.00000000e+00   1.08504047e-04   7.72175648e-02   6.95452848e-04\n",
      "   9.87593884e-03   5.51037915e-04   1.57107940e-03   2.62442611e-03\n",
      "   2.89546912e-03   1.09260187e-01   8.07025727e-02]\n"
     ]
    }
   ],
   "source": [
    "regr = RandomForestRegressor(max_depth=12000, criterion='mae')\n",
    "regr.fit(X, y)\n",
    "print(regr.feature_importances_)"
   ]
  },
  {
   "cell_type": "code",
   "execution_count": 54,
   "metadata": {},
   "outputs": [],
   "source": [
    "def printtable(headers, error, r2):\n",
    "    header = '|' + '|'.join(headers) + '|'\n",
    "    align = '|:-:|--:|--:|'\n",
    "    rows = ['|{}|{:6.2f}|{:6.2f}|'.format(i + 1, error, r2) for i, (error, r2) in enumerate(zip(error,r2))]\n",
    "    rows = '\\n'.join(rows)\n",
    "    mean = '|Mean|{:6.2f}|{:6.2f}|'.format(np.mean(error), np.mean(r2))\n",
    "    std = '|Std|{:6.2f}|{:6.2f}|'.format(np.std(error), np.std(r2))\n",
    "    return '\\n'.join([header, align, rows, mean, std])"
   ]
  },
  {
   "cell_type": "code",
   "execution_count": 55,
   "metadata": {
    "scrolled": true
   },
   "outputs": [
    {
     "name": "stdout",
     "output_type": "stream",
     "text": [
      "|Run|Error|R<sup>2</sup>|\n",
      "|:-:|--:|--:|\n",
      "|1|104.32|  0.92|\n",
      "|2|136.48|  0.83|\n",
      "|3|127.91|  0.82|\n",
      "|4| 95.63|  0.88|\n",
      "|5|100.07|  0.92|\n",
      "|Mean|112.88|  0.87|\n",
      "|Std| 16.23|  0.04|\n"
     ]
    }
   ],
   "source": [
    "error = list(map(abs,cross_val_score(regr, X, y, cv=5, scoring='neg_mean_absolute_error')))\n",
    "r2 = cross_val_score(regr, X, y, cv=5)\n",
    "\n",
    "headers = ['Run', 'Error', 'R<sup>2</sup>']    \n",
    "\n",
    "print(printtable(headers, error, r2))"
   ]
  },
  {
   "cell_type": "code",
   "execution_count": 43,
   "metadata": {},
   "outputs": [
    {
     "data": {
      "text/plain": [
       "1908.3911329592356"
      ]
     },
     "execution_count": 43,
     "metadata": {},
     "output_type": "execute_result"
    }
   ],
   "source": [
    "df.price.mean()"
   ]
  },
  {
   "cell_type": "code",
   "execution_count": 44,
   "metadata": {},
   "outputs": [],
   "source": [
    "zip98122 = df[df['zipcode'] == '98122']\n",
    "X = zip98122[features]\n",
    "y = zip98122['price']"
   ]
  },
  {
   "cell_type": "code",
   "execution_count": 45,
   "metadata": {},
   "outputs": [
    {
     "name": "stdout",
     "output_type": "stream",
     "text": [
      "|Run|Error|R<sup>2</sup>|\n",
      "|:-:|--:|--:|\n",
      "|1|147.55|  0.84|\n",
      "|2|119.62|  0.88|\n",
      "|3|147.24|  0.85|\n",
      "|4|100.21|  0.91|\n",
      "|5|124.96|  0.89|\n",
      "|Mean|127.92|  0.88|\n",
      "|Std| 17.91|  0.02|\n"
     ]
    }
   ],
   "source": [
    "error = list(map(abs,cross_val_score(regr, X, y, cv=5, scoring='neg_mean_absolute_error')))\n",
    "r2 = cross_val_score(regr, X, y, cv=5)\n",
    "\n",
    "headers = ['Run', 'Error', 'R<sup>2</sup>']    \n",
    "\n",
    "print(printtable(headers, error, r2))"
   ]
  },
  {
   "cell_type": "code",
   "execution_count": 46,
   "metadata": {},
   "outputs": [
    {
     "data": {
      "text/plain": [
       "2060.0065693430656"
      ]
     },
     "execution_count": 46,
     "metadata": {},
     "output_type": "execute_result"
    }
   ],
   "source": [
    "zip98122.price.mean()"
   ]
  },
  {
   "cell_type": "code",
   "execution_count": 47,
   "metadata": {},
   "outputs": [],
   "source": [
    "zip98102 = df[df['zipcode'] == '98102']\n",
    "X = zip98102[features]\n",
    "y = zip98102['price']"
   ]
  },
  {
   "cell_type": "code",
   "execution_count": 48,
   "metadata": {},
   "outputs": [
    {
     "name": "stdout",
     "output_type": "stream",
     "text": [
      "|Run|Error|R<sup>2</sup>|\n",
      "|:-:|--:|--:|\n",
      "|1|113.40|  0.92|\n",
      "|2|149.16|  0.85|\n",
      "|3|117.42|  0.82|\n",
      "|4| 92.90|  0.89|\n",
      "|5|102.68|  0.91|\n",
      "|Mean|115.11|  0.88|\n",
      "|Std| 19.06|  0.04|\n"
     ]
    }
   ],
   "source": [
    "error = list(map(abs,cross_val_score(regr, X, y, cv=5, scoring='neg_mean_absolute_error')))\n",
    "r2 = cross_val_score(regr, X, y, cv=5)\n",
    "\n",
    "headers = ['Run', 'Error', 'R<sup>2</sup>']    \n",
    "\n",
    "print(printtable(headers, error, r2))"
   ]
  },
  {
   "cell_type": "code",
   "execution_count": 49,
   "metadata": {},
   "outputs": [
    {
     "data": {
      "text/plain": [
       "2102.9175392670159"
      ]
     },
     "execution_count": 49,
     "metadata": {},
     "output_type": "execute_result"
    }
   ],
   "source": [
    "zip98102.price.mean()"
   ]
  },
  {
   "cell_type": "code",
   "execution_count": null,
   "metadata": {},
   "outputs": [],
   "source": []
  },
  {
   "cell_type": "code",
   "execution_count": null,
   "metadata": {},
   "outputs": [],
   "source": []
  }
 ],
 "metadata": {
  "kernelspec": {
   "display_name": "Python 3",
   "language": "python",
   "name": "python3"
  },
  "language_info": {
   "codemirror_mode": {
    "name": "ipython",
    "version": 3
   },
   "file_extension": ".py",
   "mimetype": "text/x-python",
   "name": "python",
   "nbconvert_exporter": "python",
   "pygments_lexer": "ipython3",
   "version": "3.5.2"
  }
 },
 "nbformat": 4,
 "nbformat_minor": 2
}
