{
 "cells": [
  {
   "cell_type": "code",
   "execution_count": 1,
   "metadata": {},
   "outputs": [],
   "source": [
    "import numpy as np\n",
    "import pandas as pd\n",
    "\n",
    "from pymongo import MongoClient\n",
    "from sklearn.ensemble import GradientBoostingRegressor\n",
    "from sklearn.model_selection import train_test_split, cross_val_score\n",
    "\n",
    "from rentright.utils.mongo import get_mongoclient"
   ]
  },
  {
   "cell_type": "code",
   "execution_count": 2,
   "metadata": {},
   "outputs": [],
   "source": [
    "mongoclient = get_mongoclient()\n",
    "units = mongoclient.scraper.unit.find()\n",
    "df = pd.DataFrame(list(units))\n",
    "df.fillna(False, inplace=True)\n",
    "df = df[(df['price'] < 25000) & (df['sqft'] != 0) & (df['sqft'] < 10000)]"
   ]
  },
  {
   "cell_type": "code",
   "execution_count": 3,
   "metadata": {},
   "outputs": [],
   "source": [
    "features = list(set(df.columns) - set(['_id', 'description', 'listing_id', 'price', 'title']))"
   ]
  },
  {
   "cell_type": "code",
   "execution_count": 4,
   "metadata": {},
   "outputs": [],
   "source": [
    "X = df[features]\n",
    "y = df['price']"
   ]
  },
  {
   "cell_type": "code",
   "execution_count": 8,
   "metadata": {},
   "outputs": [],
   "source": [
    "gbr = GradientBoostingRegressor(loss='ls', learning_rate=0.01, n_estimators=1000, max_depth=5, subsample=0.5)"
   ]
  },
  {
   "cell_type": "code",
   "execution_count": 9,
   "metadata": {},
   "outputs": [],
   "source": [
    "def printtable(headers, error, r2):\n",
    "    header = '|' + '|'.join(headers) + '|'\n",
    "    align = '|:-:|--:|--:|'\n",
    "    rows = ['|{}|{:6.2f}|{:6.2f}|'.format(i + 1, error, r2) for i, (error, r2) in enumerate(zip(error,r2))]\n",
    "    rows = '\\n'.join(rows)\n",
    "    mean = '|Mean|{:6.2f}|{:6.2f}|'.format(np.mean(error), np.mean(r2))\n",
    "    std = '|Std|{:6.2f}|{:6.2f}|'.format(np.std(error), np.std(r2))\n",
    "    return '\\n'.join([header, align, rows, mean, std])"
   ]
  },
  {
   "cell_type": "code",
   "execution_count": 10,
   "metadata": {},
   "outputs": [
    {
     "name": "stdout",
     "output_type": "stream",
     "text": [
      "Done with the first cross-val run\n",
      "|Run|Error|R<sup>2</sup>|\n",
      "|:-:|--:|--:|\n",
      "|1|260.75|  0.43|\n",
      "|2|224.28|  0.76|\n",
      "|3|191.94|  0.78|\n",
      "|4|197.16|  0.68|\n",
      "|5|188.40|  0.68|\n",
      "|Mean|212.51|  0.67|\n",
      "|Std| 27.22|  0.13|\n"
     ]
    }
   ],
   "source": [
    "error = list(map(abs,cross_val_score(gbr, X, y, cv=5, scoring='neg_mean_absolute_error')))\n",
    "print('Done with the first cross-val run')\n",
    "r2 = cross_val_score(gbr, X, y, cv=5)\n",
    "\n",
    "headers = ['Run', 'Error', 'R<sup>2</sup>']    \n",
    "\n",
    "print(printtable(headers, error, r2))"
   ]
  }
 ],
 "metadata": {
  "kernelspec": {
   "display_name": "Python 3",
   "language": "python",
   "name": "python3"
  },
  "language_info": {
   "codemirror_mode": {
    "name": "ipython",
    "version": 3
   },
   "file_extension": ".py",
   "mimetype": "text/x-python",
   "name": "python",
   "nbconvert_exporter": "python",
   "pygments_lexer": "ipython3",
   "version": "3.5.2"
  }
 },
 "nbformat": 4,
 "nbformat_minor": 2
}
